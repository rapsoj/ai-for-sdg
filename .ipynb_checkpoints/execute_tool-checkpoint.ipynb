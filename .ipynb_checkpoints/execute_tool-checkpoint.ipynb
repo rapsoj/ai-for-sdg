{
 "cells": [
  {
   "cell_type": "markdown",
   "id": "dd6cdecb-1f6c-4215-9b18-853aede713ed",
   "metadata": {},
   "source": [
    "# Execute Tool"
   ]
  },
  {
   "cell_type": "markdown",
   "id": "7e8ce2b6-d062-43e5-9a54-74e4c69e173d",
   "metadata": {},
   "source": [
    "Code to upload files and run callibrations using the PPI tool."
   ]
  },
  {
   "cell_type": "markdown",
   "id": "b3eee6ae-d67a-40cf-a03e-92cc925d963f",
   "metadata": {},
   "source": [
    "### Run Callibrations"
   ]
  },
  {
   "cell_type": "code",
   "execution_count": null,
   "id": "ef660987-bc07-47a3-80c2-56f06acd37f4",
   "metadata": {},
   "outputs": [],
   "source": [
    "from selenium import webdriver\n",
    "from selenium.webdriver.common.by import By\n",
    "from selenium.webdriver.support.ui import WebDriverWait\n",
    "from selenium.webdriver.support import expected_conditions as EC\n",
    "from selenium.webdriver.common.action_chains import ActionChains\n",
    "import time\n",
    "\n",
    "def run_callibration(file_path):\n",
    "    # Create a new instance of the Chrome driver (you can change this to another browser)\n",
    "    driver = webdriver.Chrome()\n",
    "\n",
    "    try:\n",
    "        # Navigate to the web page\n",
    "        driver.get(\"https://policypriority.org/ppiapp/\")\n",
    "\n",
    "        # Wait for the element to be clickable (adjust the timeout and selector as needed)\n",
    "        start_button = WebDriverWait(driver, 2).until(\n",
    "            EC.element_to_be_clickable((By.CSS_SELECTOR, \".MuiButton-root.MuiButton-contained.MuiButton-containedPrimary.MuiButton-sizeLarge.MuiButton-containedSizeLarge.MuiButtonBase-root.css-frdvbf\"))\n",
    "        )\n",
    "\n",
    "        # Click on the upload button\n",
    "        start_button.click()\n",
    "\n",
    "        # Locate the file input element\n",
    "        file_input = WebDriverWait(driver, 10).until(\n",
    "            EC.presence_of_element_located((By.CSS_SELECTOR, \"input[type='file']\"))  # Adjust the selector accordingly\n",
    "        )\n",
    "        \n",
    "        # Locate the drag-and-drop area\n",
    "        drag_and_drop_area = WebDriverWait(driver, 10).until(\n",
    "            EC.presence_of_element_located((By.CSS_SELECTOR, \".MuiGrid-root.MuiGrid-item.MuiGrid-grid-xs-12.MuiGrid-grid-md-5.css-1m6ogtm\"))\n",
    "        )\n",
    "        \n",
    "        # Perform the drag-and-drop action\n",
    "        ActionChains(driver).drag_and_drop(file_input, drag_and_drop_area).perform()\n",
    "        \n",
    "        # Send keys to the file input to set the file path\n",
    "        file_input.send_keys(file_path)\n",
    "\n",
    "        # Wait for some time (you may adjust the time based on your needs)\n",
    "        time.sleep(10)\n",
    "\n",
    "    finally:\n",
    "        # Close the browser window\n",
    "        driver.quit()\n",
    "\n",
    "run_callibration(file_path = '/Users/jessicarapson/Documents/GitHub/ai-for-sdg/datasets/development_indicators_PPI.xlsx')\n",
    "\n",
    "# # Example usage:\n",
    "# files_to_upload = [\"path/to/file1.txt\", \"path/to/file2.txt\", \"path/to/file3.txt\"]\n",
    "\n",
    "# for file_path in files_to_upload:\n",
    "#     upload_file(file_path)"
   ]
  },
  {
   "cell_type": "code",
   "execution_count": null,
   "id": "108c7250-56fd-4b9d-954e-b9636f7c29aa",
   "metadata": {},
   "outputs": [],
   "source": []
  }
 ],
 "metadata": {
  "kernelspec": {
   "display_name": "Python 3 (ipykernel)",
   "language": "python",
   "name": "python3"
  },
  "language_info": {
   "codemirror_mode": {
    "name": "ipython",
    "version": 3
   },
   "file_extension": ".py",
   "mimetype": "text/x-python",
   "name": "python",
   "nbconvert_exporter": "python",
   "pygments_lexer": "ipython3",
   "version": "3.11.6"
  }
 },
 "nbformat": 4,
 "nbformat_minor": 5
}
