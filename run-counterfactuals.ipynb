{
 "cells": [
  {
   "cell_type": "markdown",
   "id": "7ff644c6-ac6c-41c1-9dea-4a60eea7c4a5",
   "metadata": {},
   "source": [
    "# Run Counterfactuals"
   ]
  },
  {
   "cell_type": "markdown",
   "id": "8d5c8713-c6ac-4b7a-bab7-61cd6a4ae7a6",
   "metadata": {},
   "source": [
    "Code to run counterfactual simulations for the PPI tool."
   ]
  },
  {
   "cell_type": "markdown",
   "id": "e6585355-5d8e-4f5b-aa19-f885167457b2",
   "metadata": {},
   "source": [
    "### Run Basic Counterfactuals"
   ]
  },
  {
   "cell_type": "code",
   "execution_count": null,
   "id": "9e7ffe63-b4ba-4521-a6ec-5d70537c366d",
   "metadata": {},
   "outputs": [],
   "source": []
  }
 ],
 "metadata": {
  "kernelspec": {
   "display_name": "Python 3 (ipykernel)",
   "language": "python",
   "name": "python3"
  },
  "language_info": {
   "codemirror_mode": {
    "name": "ipython",
    "version": 3
   },
   "file_extension": ".py",
   "mimetype": "text/x-python",
   "name": "python",
   "nbconvert_exporter": "python",
   "pygments_lexer": "ipython3",
   "version": "3.11.6"
  }
 },
 "nbformat": 4,
 "nbformat_minor": 5
}
