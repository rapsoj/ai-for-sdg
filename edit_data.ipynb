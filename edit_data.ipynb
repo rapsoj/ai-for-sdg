{
 "cells": [
  {
   "cell_type": "markdown",
   "id": "1981a1c5-1190-48c9-86f9-addb2d4c97c3",
   "metadata": {},
   "source": [
    "# Edit Data"
   ]
  },
  {
   "cell_type": "markdown",
   "id": "c2c76907-b801-445e-a316-7e66d2dfb966",
   "metadata": {},
   "source": [
    "Code to permutate provided data for the PPI tool."
   ]
  },
  {
   "cell_type": "code",
   "execution_count": null,
   "id": "28541986-d5eb-4942-a689-6f6ad2112f5e",
   "metadata": {},
   "outputs": [],
   "source": []
  }
 ],
 "metadata": {
  "kernelspec": {
   "display_name": "Python 3 (ipykernel)",
   "language": "python",
   "name": "python3"
  },
  "language_info": {
   "codemirror_mode": {
    "name": "ipython",
    "version": 3
   },
   "file_extension": ".py",
   "mimetype": "text/x-python",
   "name": "python",
   "nbconvert_exporter": "python",
   "pygments_lexer": "ipython3",
   "version": "3.11.6"
  }
 },
 "nbformat": 4,
 "nbformat_minor": 5
}
